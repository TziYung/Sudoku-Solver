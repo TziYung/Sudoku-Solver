{
 "cells": [
  {
   "cell_type": "code",
   "execution_count": 1,
   "metadata": {},
   "outputs": [],
   "source": [
    "import numpy\n",
    "Q = [\n",
    "    [7,8,0,4,0,0,1,2,0],\n",
    "    [6,0,0,0,7,5,0,0,9],\n",
    "    [0,0,0,6,0,1,0,7,8],\n",
    "    [0,0,7,0,4,0,2,6,0],\n",
    "    [0,0,1,0,5,0,9,3,0],\n",
    "    [9,0,4,0,6,0,0,0,5],\n",
    "    [0,7,0,3,0,0,0,1,2],\n",
    "    [1,2,0,0,0,7,4,0,0],\n",
    "    [0,4,9,2,0,6,0,0,7]\n",
    "]"
   ]
  },
  {
   "cell_type": "code",
   "execution_count": 2,
   "metadata": {},
   "outputs": [],
   "source": [
    "def missing(soduck):\n",
    "    l=[]\n",
    "    for a in range(9):\n",
    "        for b in range(9):\n",
    "            if soduck[a][b]==0:\n",
    "                num=[n for n in range(1,10)]\n",
    "                avoid=set()\n",
    "                for c in range(9):\n",
    "                    avoid.add(soduck[a][c])\n",
    "                    avoid.add(soduck[c][b])\n",
    "                for c in range(int(b/3)*3,int(b/3)*3+3):\n",
    "                    for d in range(int(a/3)*3,int(a/3)*3+3):\n",
    "                        avoid.add(soduck[d][c])\n",
    "                for c in avoid:\n",
    "                    if c!=0:\n",
    "                        num.remove(c)\n",
    "                num.insert(0,0)\n",
    "                l.append((a,b,num))\n",
    "    return l\n",
    "index=[]\n",
    "def check(soduck,n,a):\n",
    "    r=missing[n][0]\n",
    "    w=missing[n][1]\n",
    "    for b in range(9):\n",
    "        if b!=r and soduck[b][w]==missing[n][2][a]:\n",
    "            return False\n",
    "        if b!=w and soduck[r][b]==missing[n][2][a]:\n",
    "            return False\n",
    "    for b in range(int(r/3)*3,int(r/3+1)*3):\n",
    "        for c in range(int(w/3)*3,int(w/3+1)*3) :\n",
    "            if (b,c)!=(r,w) and soduck[b][c]==missing[n][2][a]:\n",
    "                return False\n",
    "    return True\n",
    "missing=missing(Q)"
   ]
  },
  {
   "cell_type": "code",
   "execution_count": 3,
   "metadata": {},
   "outputs": [],
   "source": [
    "def solve(soduck,index):\n",
    "    error=1\n",
    "    if index:\n",
    "        if index[-1]<10:\n",
    "            n=len(index)\n",
    "            index.append(0)\n",
    "        else:\n",
    "            del index[-1]\n",
    "            n=len(index)-1\n",
    "    else:\n",
    "        n=0\n",
    "        index.append(0)\n",
    "    if n<len(missing):\n",
    "        \n",
    "        for a in range(index[n]+1,len(missing[n][2])):\n",
    "            if check(soduck,n,a):\n",
    "                index[n]=a\n",
    "                soduck[missing[n][0]][missing[n][1]]=missing[n][2][index[n]]\n",
    "                error=0\n",
    "                break\n",
    "        if error:\n",
    "            index[-1]=10\n",
    "            soduck[missing[n][0]][missing[n][1]]=0\n",
    "        solve(soduck,index)\n",
    "    else:\n",
    "        import numpy\n",
    "        \n",
    "        print(numpy.array(soduck))\n",
    "            \n",
    "            "
   ]
  },
  {
   "cell_type": "code",
   "execution_count": 4,
   "metadata": {
    "scrolled": true
   },
   "outputs": [
    {
     "name": "stdout",
     "output_type": "stream",
     "text": [
      "[[7 8 5 4 3 9 1 2 6]\n",
      " [6 1 2 8 7 5 3 4 9]\n",
      " [4 9 3 6 2 1 5 7 8]\n",
      " [8 5 7 9 4 3 2 6 1]\n",
      " [2 6 1 7 5 8 9 3 4]\n",
      " [9 3 4 1 6 2 7 8 5]\n",
      " [5 7 8 3 9 4 6 1 2]\n",
      " [1 2 6 5 8 7 4 9 3]\n",
      " [3 4 9 2 1 6 8 5 7]]\n"
     ]
    }
   ],
   "source": [
    "solve(Q,index)"
   ]
  },
  {
   "cell_type": "code",
   "execution_count": null,
   "metadata": {},
   "outputs": [],
   "source": []
  }
 ],
 "metadata": {
  "kernelspec": {
   "display_name": "Python 3",
   "language": "python",
   "name": "python3"
  },
  "language_info": {
   "codemirror_mode": {
    "name": "ipython",
    "version": 3
   },
   "file_extension": ".py",
   "mimetype": "text/x-python",
   "name": "python",
   "nbconvert_exporter": "python",
   "pygments_lexer": "ipython3",
   "version": "3.7.4"
  }
 },
 "nbformat": 4,
 "nbformat_minor": 2
}
